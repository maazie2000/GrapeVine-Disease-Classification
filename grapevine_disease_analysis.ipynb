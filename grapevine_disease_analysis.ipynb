{
  "nbformat": 4,
  "nbformat_minor": 0,
  "metadata": {
    "colab": {
      "provenance": []
    },
    "kernelspec": {
      "name": "python3",
      "display_name": "Python 3"
    },
    "language_info": {
      "name": "python"
    },
    "accelerator": "GPU",
    "gpuClass": "standard"
  },
  "cells": [
    {
      "cell_type": "markdown",
      "source": [
        "#GrapeVine Disease Analysis\n"
      ],
      "metadata": {
        "id": "fSX9GYZawje3"
      }
    },
    {
      "cell_type": "markdown",
      "source": [
        "## 1. Install and become one with the data"
      ],
      "metadata": {
        "id": "soIrnQoMwqsF"
      }
    },
    {
      "cell_type": "markdown",
      "source": [
        "This project is intended to predict the disease in a grapevine, given the image. The [Grapevine Disease Images](https://www.kaggle.com/datasets/piyushmishra1999/plantvillage-grape) dataset from kaggle, will be used"
      ],
      "metadata": {
        "id": "2_9fFPiYwva1"
      }
    },
    {
      "cell_type": "code",
      "source": [
        "import zipfile\n",
        "zip_ref = zipfile.ZipFile('/content/grapevine_disease_images.zip')\n",
        "zip_ref.extractall()"
      ],
      "metadata": {
        "id": "5SEONe99xM5I"
      },
      "execution_count": null,
      "outputs": []
    },
    {
      "cell_type": "code",
      "source": [
        "#Lets see the amount of images and directories\n",
        "import os\n",
        "for dirpath, dirnames, filenames in os.walk('/content/Grape'):\n",
        "  print(f'There are {len(dirnames)} directories and {len(filenames)} images in {dirpath}')"
      ],
      "metadata": {
        "colab": {
          "base_uri": "https://localhost:8080/"
        },
        "id": "V0sgwB9zxpZ1",
        "outputId": "19217304-7556-4d98-f1d2-7c09502a8d04"
      },
      "execution_count": null,
      "outputs": [
        {
          "output_type": "stream",
          "name": "stdout",
          "text": [
            "There are 4 directories and 0 images in /content/Grape\n",
            "There are 0 directories and 423 images in /content/Grape/Grape___healthy\n",
            "There are 0 directories and 1076 images in /content/Grape/Grape___Leaf_blight_(Isariopsis_Leaf_Spot)\n",
            "There are 0 directories and 1383 images in /content/Grape/Grape___Esca_(Black_Measles)\n",
            "There are 0 directories and 1180 images in /content/Grape/Grape___Black_rot\n"
          ]
        }
      ]
    },
    {
      "cell_type": "markdown",
      "source": [
        "## 2. Preprocess the data and create train and test batches"
      ],
      "metadata": {
        "id": "Bhjvbu_fyEq4"
      }
    },
    {
      "cell_type": "code",
      "source": [
        "import tensorflow as tf\n",
        "\n",
        "#Create data_dir\n",
        "data_dir = '/content/Grape'\n",
        "\n",
        "#Create train and test data\n",
        "train_data = tf.keras.preprocessing.image_dataset_from_directory(data_dir,\n",
        "                                                                 image_size=(224, 224),\n",
        "                                                                 validation_split=0.2,\n",
        "                                                                 subset='training',\n",
        "                                                                 seed=120)\n",
        "test_data = tf.keras.preprocessing.image_dataset_from_directory(data_dir,\n",
        "                                                                image_size=(224, 224),\n",
        "                                                                validation_split=0.2,\n",
        "                                                                subset='validation',\n",
        "                                                                seed=120)"
      ],
      "metadata": {
        "colab": {
          "base_uri": "https://localhost:8080/"
        },
        "id": "Yqe2OvLMySnk",
        "outputId": "c4b9221a-c554-4c9e-f8ff-bb2cc7ea0280"
      },
      "execution_count": null,
      "outputs": [
        {
          "output_type": "stream",
          "name": "stdout",
          "text": [
            "Found 4062 files belonging to 4 classes.\n",
            "Using 3250 files for training.\n",
            "Found 4062 files belonging to 4 classes.\n",
            "Using 812 files for validation.\n"
          ]
        }
      ]
    },
    {
      "cell_type": "markdown",
      "source": [
        "## 3. Creating Multiple model experiments\n",
        "\n",
        "- `model0` :- Creating a simple Convolutional neural network model\n",
        "- `model1` :- Creating a Convolutional neural network model with data augmentation\n",
        "- `model2` :- Create a EfficientNetV2B0 feature extraction transfer learning model\n"
      ],
      "metadata": {
        "id": "b28JlC85zcxk"
      }
    },
    {
      "cell_type": "code",
      "source": [
        "#Import all necessary libraries\n",
        "import tensorflow as tf\n",
        "from tensorflow.keras.layers import Dense, Flatten, Conv2D, MaxPool2D, GlobalAveragePooling2D\n",
        "from tensorflow.keras.optimizers import Adam\n",
        "import matplotlib.pyplot as plt\n",
        "import matplotlib.image as mpimg\n",
        "import pandas as pd \n",
        "import numpy as np"
      ],
      "metadata": {
        "id": "MUGCGiaT0mnt"
      },
      "execution_count": null,
      "outputs": []
    },
    {
      "cell_type": "markdown",
      "source": [
        "###Model0"
      ],
      "metadata": {
        "id": "JatVwXx70X0O"
      }
    },
    {
      "cell_type": "code",
      "source": [
        "#Create the CNN\n",
        "model0 = tf.keras.Sequential([\n",
        "    Conv2D(10, 3, input_shape=(224, 224, 3)),\n",
        "    MaxPool2D(),\n",
        "    Conv2D(10, 3, input_shape=(224, 224, 3)),\n",
        "    MaxPool2D(),\n",
        "    Conv2D(10, 3, input_shape=(224, 224, 3)),\n",
        "    MaxPool2D(),\n",
        "    Flatten(),\n",
        "    Dense(4, activation='softmax')\n",
        "])\n",
        "\n",
        "#Compile our CNN\n",
        "model0.compile(loss=tf.keras.losses.SparseCategoricalCrossentropy(),\n",
        "               optimizer=Adam(),\n",
        "               metrics=['accuracy'])"
      ],
      "metadata": {
        "id": "bzyJoKPW0bb6"
      },
      "execution_count": null,
      "outputs": []
    },
    {
      "cell_type": "code",
      "source": [
        "history0 = model0.fit(train_data,\n",
        "                      epochs=5,\n",
        "                      steps_per_epoch=len(train_data),\n",
        "                      validation_data=test_data,\n",
        "                      validation_steps=len(test_data),\n",
        "                      callbacks=tf.keras.callbacks.TensorBoard('Experiments/Model0'))"
      ],
      "metadata": {
        "colab": {
          "base_uri": "https://localhost:8080/"
        },
        "id": "aSZxe7EF1rjO",
        "outputId": "064d0c82-8865-4f52-917e-2243dc7ea9e7"
      },
      "execution_count": null,
      "outputs": [
        {
          "output_type": "stream",
          "name": "stdout",
          "text": [
            "Epoch 1/5\n",
            "102/102 [==============================] - 15s 64ms/step - loss: 27.3528 - accuracy: 0.6729 - val_loss: 3.2518 - val_accuracy: 0.7906\n",
            "Epoch 2/5\n",
            "102/102 [==============================] - 6s 60ms/step - loss: 2.0280 - accuracy: 0.8532 - val_loss: 1.6768 - val_accuracy: 0.8584\n",
            "Epoch 3/5\n",
            "102/102 [==============================] - 5s 48ms/step - loss: 0.9674 - accuracy: 0.9025 - val_loss: 1.5914 - val_accuracy: 0.8522\n",
            "Epoch 4/5\n",
            "102/102 [==============================] - 6s 61ms/step - loss: 0.3501 - accuracy: 0.9498 - val_loss: 1.5211 - val_accuracy: 0.8633\n",
            "Epoch 5/5\n",
            "102/102 [==============================] - 5s 47ms/step - loss: 0.2184 - accuracy: 0.9643 - val_loss: 1.4111 - val_accuracy: 0.8682\n"
          ]
        }
      ]
    },
    {
      "cell_type": "code",
      "source": [
        "#Evaluating model0\n",
        "model0.evaluate(test_data)"
      ],
      "metadata": {
        "colab": {
          "base_uri": "https://localhost:8080/"
        },
        "id": "Qg1ZB77k3qwM",
        "outputId": "e0a6d2b5-cf60-44d3-cce8-9bc14a841403"
      },
      "execution_count": null,
      "outputs": [
        {
          "output_type": "stream",
          "name": "stdout",
          "text": [
            "26/26 [==============================] - 1s 29ms/step - loss: 1.4111 - accuracy: 0.8682\n"
          ]
        },
        {
          "output_type": "execute_result",
          "data": {
            "text/plain": [
              "[1.4111162424087524, 0.8682265877723694]"
            ]
          },
          "metadata": {},
          "execution_count": 16
        }
      ]
    },
    {
      "cell_type": "code",
      "source": [
        "model0.summary()"
      ],
      "metadata": {
        "colab": {
          "base_uri": "https://localhost:8080/"
        },
        "id": "mj1WW1_x3v4u",
        "outputId": "9dda0f14-0a4c-4987-9c98-3d99598b73b8"
      },
      "execution_count": null,
      "outputs": [
        {
          "output_type": "stream",
          "name": "stdout",
          "text": [
            "Model: \"sequential\"\n",
            "_________________________________________________________________\n",
            " Layer (type)                Output Shape              Param #   \n",
            "=================================================================\n",
            " conv2d (Conv2D)             (None, 222, 222, 10)      280       \n",
            "                                                                 \n",
            " max_pooling2d (MaxPooling2D  (None, 111, 111, 10)     0         \n",
            " )                                                               \n",
            "                                                                 \n",
            " conv2d_1 (Conv2D)           (None, 109, 109, 10)      910       \n",
            "                                                                 \n",
            " max_pooling2d_1 (MaxPooling  (None, 54, 54, 10)       0         \n",
            " 2D)                                                             \n",
            "                                                                 \n",
            " conv2d_2 (Conv2D)           (None, 52, 52, 10)        910       \n",
            "                                                                 \n",
            " max_pooling2d_2 (MaxPooling  (None, 26, 26, 10)       0         \n",
            " 2D)                                                             \n",
            "                                                                 \n",
            " flatten (Flatten)           (None, 6760)              0         \n",
            "                                                                 \n",
            " dense (Dense)               (None, 4)                 27044     \n",
            "                                                                 \n",
            "=================================================================\n",
            "Total params: 29,144\n",
            "Trainable params: 29,144\n",
            "Non-trainable params: 0\n",
            "_________________________________________________________________\n"
          ]
        }
      ]
    },
    {
      "cell_type": "markdown",
      "source": [
        "Model0 score :- About 88%"
      ],
      "metadata": {
        "id": "3rSstya6308_"
      }
    },
    {
      "cell_type": "markdown",
      "source": [
        "###Model1"
      ],
      "metadata": {
        "id": "FhIRT0wY36eL"
      }
    },
    {
      "cell_type": "code",
      "source": [
        "#Create CNN with data augmentation layers\n",
        "model1 = tf.keras.Sequential([\n",
        "    tf.keras.layers.RandomFlip(\"horizontal_and_vertical\"),\n",
        "    tf.keras.layers.RandomRotation(0.2),\n",
        "    Conv2D(10, 3, input_shape=(224, 224, 3)),\n",
        "    MaxPool2D(),\n",
        "    Conv2D(10, 3, input_shape=(224, 224, 3)),\n",
        "    MaxPool2D(),\n",
        "    Conv2D(10, 3, input_shape=(224, 224, 3)),\n",
        "    MaxPool2D(),\n",
        "    Flatten(),\n",
        "    Dense(4, activation='softmax')\n",
        "])\n",
        "\n",
        "model1.compile(loss=tf.keras.losses.SparseCategoricalCrossentropy(),\n",
        "               optimizer=Adam(),\n",
        "               metrics=['accuracy'])"
      ],
      "metadata": {
        "id": "9q2h8jfw3-Vt"
      },
      "execution_count": null,
      "outputs": []
    },
    {
      "cell_type": "code",
      "source": [
        "history_1 = model1.fit(train_data,\n",
        "                       epochs=5,\n",
        "                       steps_per_epoch=len(train_data),\n",
        "                       validation_data=test_data,\n",
        "                       validation_steps=len(test_data),\n",
        "                       callbacks=tf.keras.callbacks.TensorBoard('Experiments/Model1'))"
      ],
      "metadata": {
        "colab": {
          "base_uri": "https://localhost:8080/"
        },
        "id": "P1oww88j5tAk",
        "outputId": "4a565fa1-d7d8-4d9a-d616-6b5e902917b8"
      },
      "execution_count": null,
      "outputs": [
        {
          "output_type": "stream",
          "name": "stdout",
          "text": [
            "Epoch 1/5\n",
            "102/102 [==============================] - 11s 102ms/step - loss: 43.8937 - accuracy: 0.5778 - val_loss: 9.3449 - val_accuracy: 0.6478\n",
            "Epoch 2/5\n",
            "102/102 [==============================] - 10s 93ms/step - loss: 4.7945 - accuracy: 0.7178 - val_loss: 5.5949 - val_accuracy: 0.7155\n",
            "Epoch 3/5\n",
            "102/102 [==============================] - 10s 91ms/step - loss: 4.2008 - accuracy: 0.7305 - val_loss: 4.1842 - val_accuracy: 0.7500\n",
            "Epoch 4/5\n",
            "102/102 [==============================] - 10s 100ms/step - loss: 3.3178 - accuracy: 0.7640 - val_loss: 5.6724 - val_accuracy: 0.7106\n",
            "Epoch 5/5\n",
            "102/102 [==============================] - 9s 84ms/step - loss: 2.3837 - accuracy: 0.7889 - val_loss: 4.0851 - val_accuracy: 0.7229\n"
          ]
        }
      ]
    },
    {
      "cell_type": "code",
      "source": [
        "model1.evaluate(test_data)"
      ],
      "metadata": {
        "colab": {
          "base_uri": "https://localhost:8080/"
        },
        "id": "E4dd46wo7NgM",
        "outputId": "eb5f21a1-1605-43c9-8c22-678066db736d"
      },
      "execution_count": null,
      "outputs": [
        {
          "output_type": "stream",
          "name": "stdout",
          "text": [
            "26/26 [==============================] - 1s 28ms/step - loss: 4.0851 - accuracy: 0.7229\n"
          ]
        },
        {
          "output_type": "execute_result",
          "data": {
            "text/plain": [
              "[4.085053443908691, 0.7229064106941223]"
            ]
          },
          "metadata": {},
          "execution_count": 20
        }
      ]
    },
    {
      "cell_type": "code",
      "source": [
        "model1.summary()"
      ],
      "metadata": {
        "colab": {
          "base_uri": "https://localhost:8080/"
        },
        "id": "sybqWtIj8VzD",
        "outputId": "7e537eea-aeb2-4b7a-d43f-13568e356f58"
      },
      "execution_count": null,
      "outputs": [
        {
          "output_type": "stream",
          "name": "stdout",
          "text": [
            "Model: \"sequential_1\"\n",
            "_________________________________________________________________\n",
            " Layer (type)                Output Shape              Param #   \n",
            "=================================================================\n",
            " random_flip (RandomFlip)    (None, 224, 224, 3)       0         \n",
            "                                                                 \n",
            " random_rotation (RandomRota  (None, 224, 224, 3)      0         \n",
            " tion)                                                           \n",
            "                                                                 \n",
            " conv2d_3 (Conv2D)           (None, 222, 222, 10)      280       \n",
            "                                                                 \n",
            " max_pooling2d_3 (MaxPooling  (None, 111, 111, 10)     0         \n",
            " 2D)                                                             \n",
            "                                                                 \n",
            " conv2d_4 (Conv2D)           (None, 109, 109, 10)      910       \n",
            "                                                                 \n",
            " max_pooling2d_4 (MaxPooling  (None, 54, 54, 10)       0         \n",
            " 2D)                                                             \n",
            "                                                                 \n",
            " conv2d_5 (Conv2D)           (None, 52, 52, 10)        910       \n",
            "                                                                 \n",
            " max_pooling2d_5 (MaxPooling  (None, 26, 26, 10)       0         \n",
            " 2D)                                                             \n",
            "                                                                 \n",
            " flatten_1 (Flatten)         (None, 6760)              0         \n",
            "                                                                 \n",
            " dense_1 (Dense)             (None, 4)                 27044     \n",
            "                                                                 \n",
            "=================================================================\n",
            "Total params: 29,144\n",
            "Trainable params: 29,144\n",
            "Non-trainable params: 0\n",
            "_________________________________________________________________\n"
          ]
        }
      ]
    },
    {
      "cell_type": "markdown",
      "source": [
        "Model1 Score :- 75%"
      ],
      "metadata": {
        "id": "BIe5ciP38avu"
      }
    },
    {
      "cell_type": "markdown",
      "source": [
        "###Model2"
      ],
      "metadata": {
        "id": "b6CteqQz8dQo"
      }
    },
    {
      "cell_type": "code",
      "source": [
        "#1. Create the base model\n",
        "base_model = tf.keras.applications.EfficientNetV2B0(include_top=False)\n",
        "\n",
        "#2. Freeze the layers\n",
        "base_model.trainable = False\n",
        "\n",
        "#3. Create inputs\n",
        "inputs = tf.keras.layers.Input(shape=(224, 224, 3))\n",
        "x = base_model(inputs)\n",
        "\n",
        "#4. Add a global pooling layer\n",
        "x = tf.keras.layers.GlobalAveragePooling2D()(x)\n",
        "\n",
        "#5. Create output layer\n",
        "outputs = tf.keras.layers.Dense(4, activation='softmax')(x)\n",
        "\n",
        "#6. Create the model\n",
        "model2 = tf.keras.Model(inputs, outputs)"
      ],
      "metadata": {
        "id": "A1REUsiA8eZY",
        "colab": {
          "base_uri": "https://localhost:8080/"
        },
        "outputId": "911a96a0-2f16-4b4a-c22b-a1ba467e5096"
      },
      "execution_count": null,
      "outputs": [
        {
          "output_type": "stream",
          "name": "stdout",
          "text": [
            "Downloading data from https://storage.googleapis.com/tensorflow/keras-applications/efficientnet_v2/efficientnetv2-b0_notop.h5\n",
            "24274472/24274472 [==============================] - 2s 0us/step\n"
          ]
        }
      ]
    },
    {
      "cell_type": "code",
      "source": [
        "#7. Compile\n",
        "model2.compile(loss=tf.keras.losses.SparseCategoricalCrossentropy(),\n",
        "               optimizer=Adam(),\n",
        "               metrics=['accuracy'])\n",
        "\n",
        "#8. Fit data\n",
        "history_2 = model2.fit(train_data,\n",
        "                       epochs=5,\n",
        "                       steps_per_epoch=len(train_data),\n",
        "                       validation_data=test_data,\n",
        "                       validation_steps=len(test_data),\n",
        "                       callbacks=tf.keras.callbacks.TensorBoard('Experiments/Model2'))"
      ],
      "metadata": {
        "colab": {
          "base_uri": "https://localhost:8080/"
        },
        "id": "WJjbC2OE9b14",
        "outputId": "13a6714d-3053-46ee-f4e6-576301dfff41"
      },
      "execution_count": null,
      "outputs": [
        {
          "output_type": "stream",
          "name": "stdout",
          "text": [
            "Epoch 1/5\n",
            "102/102 [==============================] - 17s 100ms/step - loss: 0.5742 - accuracy: 0.8049 - val_loss: 0.2647 - val_accuracy: 0.9470\n",
            "Epoch 2/5\n",
            "102/102 [==============================] - 8s 80ms/step - loss: 0.2220 - accuracy: 0.9489 - val_loss: 0.1643 - val_accuracy: 0.9594\n",
            "Epoch 3/5\n",
            "102/102 [==============================] - 8s 80ms/step - loss: 0.1562 - accuracy: 0.9612 - val_loss: 0.1230 - val_accuracy: 0.9667\n",
            "Epoch 4/5\n",
            "102/102 [==============================] - 8s 75ms/step - loss: 0.1227 - accuracy: 0.9726 - val_loss: 0.0979 - val_accuracy: 0.9741\n",
            "Epoch 5/5\n",
            "102/102 [==============================] - 8s 78ms/step - loss: 0.0999 - accuracy: 0.9772 - val_loss: 0.0839 - val_accuracy: 0.9791\n"
          ]
        }
      ]
    },
    {
      "cell_type": "code",
      "source": [
        "model2.evaluate(test_data)"
      ],
      "metadata": {
        "colab": {
          "base_uri": "https://localhost:8080/"
        },
        "id": "eQ50fvC3-Ltc",
        "outputId": "a4a06210-ed34-427d-c49c-2e5ad3ad91d3"
      },
      "execution_count": null,
      "outputs": [
        {
          "output_type": "stream",
          "name": "stdout",
          "text": [
            "26/26 [==============================] - 2s 61ms/step - loss: 0.0839 - accuracy: 0.9791\n"
          ]
        },
        {
          "output_type": "execute_result",
          "data": {
            "text/plain": [
              "[0.08393459767103195, 0.9790640473365784]"
            ]
          },
          "metadata": {},
          "execution_count": 24
        }
      ]
    },
    {
      "cell_type": "code",
      "source": [
        "model2.summary()"
      ],
      "metadata": {
        "colab": {
          "base_uri": "https://localhost:8080/"
        },
        "id": "HhAzVTxS-O7M",
        "outputId": "c85855e6-c7a5-481d-fb48-f54eafbb51d3"
      },
      "execution_count": null,
      "outputs": [
        {
          "output_type": "stream",
          "name": "stdout",
          "text": [
            "Model: \"model\"\n",
            "_________________________________________________________________\n",
            " Layer (type)                Output Shape              Param #   \n",
            "=================================================================\n",
            " input_2 (InputLayer)        [(None, 224, 224, 3)]     0         \n",
            "                                                                 \n",
            " efficientnetv2-b0 (Function  (None, None, None, 1280)  5919312  \n",
            " al)                                                             \n",
            "                                                                 \n",
            " global_average_pooling2d (G  (None, 1280)             0         \n",
            " lobalAveragePooling2D)                                          \n",
            "                                                                 \n",
            " dense_2 (Dense)             (None, 4)                 5124      \n",
            "                                                                 \n",
            "=================================================================\n",
            "Total params: 5,924,436\n",
            "Trainable params: 5,124\n",
            "Non-trainable params: 5,919,312\n",
            "_________________________________________________________________\n"
          ]
        }
      ]
    },
    {
      "cell_type": "markdown",
      "source": [
        "Model2 score :- 98%"
      ],
      "metadata": {
        "id": "5AtuXsWs-RZ0"
      }
    },
    {
      "cell_type": "markdown",
      "source": [
        "Woah!!! Model 2 just beat both our previous models drastically!!"
      ],
      "metadata": {
        "id": "dWaSojDQ-Vcw"
      }
    },
    {
      "cell_type": "markdown",
      "source": [
        "## Evaluation"
      ],
      "metadata": {
        "id": "nFa2TS5u61eb"
      }
    },
    {
      "cell_type": "code",
      "source": [
        "!tensorboard dev upload --logdir '/content/Experiments'"
      ],
      "metadata": {
        "colab": {
          "base_uri": "https://localhost:8080/"
        },
        "id": "c1oabGPR65Aq",
        "outputId": "42008fed-c7b1-4350-ca2f-4eb64161b32c"
      },
      "execution_count": null,
      "outputs": [
        {
          "output_type": "stream",
          "name": "stdout",
          "text": [
            "\n",
            "***** TensorBoard Uploader *****\n",
            "\n",
            "This will upload your TensorBoard logs to https://tensorboard.dev/ from\n",
            "the following directory:\n",
            "\n",
            "/content/Experiments\n",
            "\n",
            "This TensorBoard will be visible to everyone. Do not upload sensitive\n",
            "data.\n",
            "\n",
            "Your use of this service is subject to Google's Terms of Service\n",
            "<https://policies.google.com/terms> and Privacy Policy\n",
            "<https://policies.google.com/privacy>, and TensorBoard.dev's Terms of Service\n",
            "<https://tensorboard.dev/policy/terms/>.\n",
            "\n",
            "This notice will not be shown again while you are logged into the uploader.\n",
            "To log out, run `tensorboard dev auth revoke`.\n",
            "\n",
            "Continue? (yes/NO) yes\n",
            "\n",
            "Please visit this URL to authorize this application: https://accounts.google.com/o/oauth2/auth?response_type=code&client_id=373649185512-8v619h5kft38l4456nm2dj4ubeqsrvh6.apps.googleusercontent.com&redirect_uri=urn%3Aietf%3Awg%3Aoauth%3A2.0%3Aoob&scope=openid+https%3A%2F%2Fwww.googleapis.com%2Fauth%2Fuserinfo.email&state=xsN7UgdWGtdTn46nbaR7Vclxxew3sN&prompt=consent&access_type=offline\n",
            "Enter the authorization code: 4/1AWtgzh6armuGNHWqBcf2QRq8Xp6WtNXkHX5kNdlhLqzEnecD7PzLFLjMeIQ\n",
            "\n",
            "Upload started and will continue reading any new data as it's added to the logdir.\n",
            "\n",
            "To stop uploading, press Ctrl-C.\n",
            "\n",
            "New experiment created. View your TensorBoard at: https://tensorboard.dev/experiment/0povsvuWR4KPcNvIvQxlig/\n",
            "\n",
            "\u001b[1m[2023-02-06T04:11:51]\u001b[0m Started scanning logdir.\n",
            "\u001b[1m[2023-02-06T04:11:56]\u001b[0m Total uploaded: 90 scalars, 0 tensors, 3 binary objects (1.0 MB)\n",
            "\n",
            "\n",
            "Interrupted. View your TensorBoard at https://tensorboard.dev/experiment/0povsvuWR4KPcNvIvQxlig/\n",
            "Traceback (most recent call last):\n",
            "  File \"/usr/local/bin/tensorboard\", line 8, in <module>\n",
            "    sys.exit(run_main())\n",
            "  File \"/usr/local/lib/python3.8/dist-packages/tensorboard/main.py\", line 46, in run_main\n",
            "    app.run(tensorboard.main, flags_parser=tensorboard.configure)\n",
            "  File \"/usr/local/lib/python3.8/dist-packages/absl/app.py\", line 308, in run\n",
            "    _run_main(main, args)\n",
            "  File \"/usr/local/lib/python3.8/dist-packages/absl/app.py\", line 254, in _run_main\n",
            "    sys.exit(main(argv))\n",
            "  File \"/usr/local/lib/python3.8/dist-packages/tensorboard/program.py\", line 276, in main\n",
            "    return runner(self.flags) or 0\n",
            "  File \"/usr/local/lib/python3.8/dist-packages/tensorboard/uploader/uploader_subcommand.py\", line 692, in run\n",
            "    return _run(flags, self._experiment_url_callback)\n",
            "  File \"/usr/local/lib/python3.8/dist-packages/tensorboard/uploader/uploader_subcommand.py\", line 125, in _run\n",
            "    intent.execute(server_info, channel)\n",
            "  File \"/usr/local/lib/python3.8/dist-packages/grpc/_channel.py\", line 1564, in __exit__\n",
            "    self._close()\n",
            "  File \"/usr/local/lib/python3.8/dist-packages/grpc/_channel.py\", line 1550, in _close\n",
            "    self._channel.close(cygrpc.StatusCode.cancelled, 'Channel closed!')\n",
            "  File \"src/python/grpcio/grpc/_cython/_cygrpc/channel.pyx.pxi\", line 513, in grpc._cython.cygrpc.Channel.close\n",
            "  File \"src/python/grpcio/grpc/_cython/_cygrpc/channel.pyx.pxi\", line 399, in grpc._cython.cygrpc._close\n",
            "  File \"src/python/grpcio/grpc/_cython/_cygrpc/channel.pyx.pxi\", line 429, in grpc._cython.cygrpc._close\n",
            "  File \"/usr/lib/python3.8/threading.py\", line 364, in notify_all\n",
            "    def notify_all(self):\n",
            "KeyboardInterrupt\n",
            "^C\n"
          ]
        }
      ]
    },
    {
      "cell_type": "markdown",
      "source": [
        "## Conclusion"
      ],
      "metadata": {
        "id": "YzXxjgCc7cFO"
      }
    },
    {
      "cell_type": "markdown",
      "source": [
        "In conclusion here are the results for all the experiments\n",
        "- `model0` validation accuracy :- 88%\n",
        "- `model1` validation accuracy :- 75%\n",
        "- `model2` validation accuracy :- 98%\n",
        "\n",
        "`model2` achieved the highest accuracy of 98%, with a Sparse categorical croo entropy loss score of 0.08"
      ],
      "metadata": {
        "id": "SF0pi72P7dmK"
      }
    },
    {
      "cell_type": "code",
      "source": [],
      "metadata": {
        "id": "pv-83_cA8YCP"
      },
      "execution_count": null,
      "outputs": []
    }
  ]
}